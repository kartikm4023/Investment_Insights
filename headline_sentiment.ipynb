{
 "cells": [
  {
   "cell_type": "code",
   "execution_count": 4,
   "metadata": {},
   "outputs": [],
   "source": [
    "import pandas as pd\n",
    "from finvizfinance.quote import finvizfinance\n",
    "from skollama.models.ollama.classification.zero_shot import ZeroShotOllamaClassifier\n",
    "from skollama.models.ollama.classification.few_shot import FewShotOllamaClassifier"
   ]
  },
  {
   "cell_type": "code",
   "execution_count": 16,
   "metadata": {},
   "outputs": [],
   "source": [
    "pd.set_option('display.max_colwidth', None)  # No column width limit"
   ]
  },
  {
   "cell_type": "markdown",
   "metadata": {},
   "source": [
    "### Pull stock news headline data"
   ]
  },
  {
   "cell_type": "code",
   "execution_count": null,
   "metadata": {},
   "outputs": [
    {
     "data": {
      "text/html": [
       "<div>\n",
       "<style scoped>\n",
       "    .dataframe tbody tr th:only-of-type {\n",
       "        vertical-align: middle;\n",
       "    }\n",
       "\n",
       "    .dataframe tbody tr th {\n",
       "        vertical-align: top;\n",
       "    }\n",
       "\n",
       "    .dataframe thead th {\n",
       "        text-align: right;\n",
       "    }\n",
       "</style>\n",
       "<table border=\"1\" class=\"dataframe\">\n",
       "  <thead>\n",
       "    <tr style=\"text-align: right;\">\n",
       "      <th></th>\n",
       "      <th>Date</th>\n",
       "      <th>Title</th>\n",
       "      <th>Link</th>\n",
       "      <th>Source</th>\n",
       "    </tr>\n",
       "  </thead>\n",
       "  <tbody>\n",
       "    <tr>\n",
       "      <th>0</th>\n",
       "      <td>2024-11-15 15:30:00</td>\n",
       "      <td>AST SpaceMobile Could Revolutionize Cellphone ...</td>\n",
       "      <td>https://finance.yahoo.com/m/14945860-72f3-3215...</td>\n",
       "      <td>Investor's Business Daily</td>\n",
       "    </tr>\n",
       "    <tr>\n",
       "      <th>1</th>\n",
       "      <td>2024-11-15 14:37:00</td>\n",
       "      <td>Apple Inc. (AAPL): Among the Best Metaverse St...</td>\n",
       "      <td>https://finance.yahoo.com/news/apple-inc-aapl-...</td>\n",
       "      <td>Insider Monkey</td>\n",
       "    </tr>\n",
       "    <tr>\n",
       "      <th>2</th>\n",
       "      <td>2024-11-15 14:13:00</td>\n",
       "      <td>Apple, Gen Z on personal finance: Wealth</td>\n",
       "      <td>https://finance.yahoo.com/video/apple-gen-z-pe...</td>\n",
       "      <td>Yahoo Finance Video</td>\n",
       "    </tr>\n",
       "    <tr>\n",
       "      <th>3</th>\n",
       "      <td>2024-11-15 13:53:00</td>\n",
       "      <td>Apple Removes Russian-Language RFE/RL App Foll...</td>\n",
       "      <td>https://finance.yahoo.com/news/apple-removes-r...</td>\n",
       "      <td>GuruFocus.com</td>\n",
       "    </tr>\n",
       "    <tr>\n",
       "      <th>4</th>\n",
       "      <td>2024-11-15 13:38:00</td>\n",
       "      <td>Stocks fall, growth in e-commerce: Morning Brief</td>\n",
       "      <td>https://finance.yahoo.com/video/stocks-fall-gr...</td>\n",
       "      <td>Yahoo Finance Video</td>\n",
       "    </tr>\n",
       "  </tbody>\n",
       "</table>\n",
       "</div>"
      ],
      "text/plain": [
       "                 Date                                              Title  \\\n",
       "0 2024-11-15 15:30:00  AST SpaceMobile Could Revolutionize Cellphone ...   \n",
       "1 2024-11-15 14:37:00  Apple Inc. (AAPL): Among the Best Metaverse St...   \n",
       "2 2024-11-15 14:13:00           Apple, Gen Z on personal finance: Wealth   \n",
       "3 2024-11-15 13:53:00  Apple Removes Russian-Language RFE/RL App Foll...   \n",
       "4 2024-11-15 13:38:00   Stocks fall, growth in e-commerce: Morning Brief   \n",
       "\n",
       "                                                Link  \\\n",
       "0  https://finance.yahoo.com/m/14945860-72f3-3215...   \n",
       "1  https://finance.yahoo.com/news/apple-inc-aapl-...   \n",
       "2  https://finance.yahoo.com/video/apple-gen-z-pe...   \n",
       "3  https://finance.yahoo.com/news/apple-removes-r...   \n",
       "4  https://finance.yahoo.com/video/stocks-fall-gr...   \n",
       "\n",
       "                      Source  \n",
       "0  Investor's Business Daily  \n",
       "1             Insider Monkey  \n",
       "2        Yahoo Finance Video  \n",
       "3              GuruFocus.com  \n",
       "4        Yahoo Finance Video  "
      ]
     },
     "execution_count": 7,
     "metadata": {},
     "output_type": "execute_result"
    }
   ],
   "source": [
    "# Initialize the finvizfinance object for Apple\n",
    "stock = finvizfinance('AAPL')\n",
    "\n",
    "# Fetch the latest news articles\n",
    "news_df = stock.ticker_news()\n",
    "\n",
    "news_df.head()"
   ]
  },
  {
   "cell_type": "code",
   "execution_count": null,
   "metadata": {},
   "outputs": [
    {
     "data": {
      "text/html": [
       "<div>\n",
       "<style scoped>\n",
       "    .dataframe tbody tr th:only-of-type {\n",
       "        vertical-align: middle;\n",
       "    }\n",
       "\n",
       "    .dataframe tbody tr th {\n",
       "        vertical-align: top;\n",
       "    }\n",
       "\n",
       "    .dataframe thead th {\n",
       "        text-align: right;\n",
       "    }\n",
       "</style>\n",
       "<table border=\"1\" class=\"dataframe\">\n",
       "  <thead>\n",
       "    <tr style=\"text-align: right;\">\n",
       "      <th></th>\n",
       "      <th>Date</th>\n",
       "      <th>Link</th>\n",
       "      <th>Title</th>\n",
       "    </tr>\n",
       "  </thead>\n",
       "  <tbody>\n",
       "    <tr>\n",
       "      <th>1</th>\n",
       "      <td>2024-11-15 14:37:00</td>\n",
       "      <td>https://finance.yahoo.com/news/apple-inc-aapl-...</td>\n",
       "      <td>Apple Inc. (AAPL): Among the Best Metaverse St...</td>\n",
       "    </tr>\n",
       "    <tr>\n",
       "      <th>2</th>\n",
       "      <td>2024-11-15 14:13:00</td>\n",
       "      <td>https://finance.yahoo.com/video/apple-gen-z-pe...</td>\n",
       "      <td>Apple, Gen Z on personal finance: Wealth</td>\n",
       "    </tr>\n",
       "    <tr>\n",
       "      <th>3</th>\n",
       "      <td>2024-11-15 13:53:00</td>\n",
       "      <td>https://finance.yahoo.com/news/apple-removes-r...</td>\n",
       "      <td>Apple Removes Russian-Language RFE/RL App Foll...</td>\n",
       "    </tr>\n",
       "    <tr>\n",
       "      <th>5</th>\n",
       "      <td>2024-11-15 12:43:00</td>\n",
       "      <td>https://finance.yahoo.com/m/8fe66b95-b994-3fc7...</td>\n",
       "      <td>Trump Promises Tariffs. Wall Street Is Debatin...</td>\n",
       "    </tr>\n",
       "    <tr>\n",
       "      <th>7</th>\n",
       "      <td>2024-11-15 12:02:00</td>\n",
       "      <td>https://finance.yahoo.com/news/berkshire-hatha...</td>\n",
       "      <td>Berkshire Hathaway Sells $23B in Apple Shares,...</td>\n",
       "    </tr>\n",
       "  </tbody>\n",
       "</table>\n",
       "</div>"
      ],
      "text/plain": [
       "                 Date                                               Link  \\\n",
       "1 2024-11-15 14:37:00  https://finance.yahoo.com/news/apple-inc-aapl-...   \n",
       "2 2024-11-15 14:13:00  https://finance.yahoo.com/video/apple-gen-z-pe...   \n",
       "3 2024-11-15 13:53:00  https://finance.yahoo.com/news/apple-removes-r...   \n",
       "5 2024-11-15 12:43:00  https://finance.yahoo.com/m/8fe66b95-b994-3fc7...   \n",
       "7 2024-11-15 12:02:00  https://finance.yahoo.com/news/berkshire-hatha...   \n",
       "\n",
       "                                               Title  \n",
       "1  Apple Inc. (AAPL): Among the Best Metaverse St...  \n",
       "2           Apple, Gen Z on personal finance: Wealth  \n",
       "3  Apple Removes Russian-Language RFE/RL App Foll...  \n",
       "5  Trump Promises Tariffs. Wall Street Is Debatin...  \n",
       "7  Berkshire Hathaway Sells $23B in Apple Shares,...  "
      ]
     },
     "execution_count": 9,
     "metadata": {},
     "output_type": "execute_result"
    }
   ],
   "source": [
    "# Reorder Columns\n",
    "news_df = news_df[['Date','Link','Title']]\n",
    "\n",
    "# Define the keywords to filter by\n",
    "keywords = ['AAPL', 'Apple']\n",
    "\n",
    "pattern = '|'.join(keywords)\n",
    "\n",
    "# Filter the DataFrame  \n",
    "filtered_news_df = news_df[news_df['Title'].str.contains(pattern, case=False, na=False)]\n",
    "\n",
    "filtered_news_df.head()"
   ]
  },
  {
   "cell_type": "markdown",
   "metadata": {},
   "source": [
    "### Run Zero Shot Classifier"
   ]
  },
  {
   "cell_type": "code",
   "execution_count": 12,
   "metadata": {},
   "outputs": [
    {
     "name": "stderr",
     "output_type": "stream",
     "text": [
      "100%|██████████| 59/59 [05:20<00:00,  5.42s/it]\n",
      "C:\\Users\\karti\\AppData\\Local\\Temp\\ipykernel_10656\\3810096421.py:11: SettingWithCopyWarning: \n",
      "A value is trying to be set on a copy of a slice from a DataFrame.\n",
      "Try using .loc[row_indexer,col_indexer] = value instead\n",
      "\n",
      "See the caveats in the documentation: https://pandas.pydata.org/pandas-docs/stable/user_guide/indexing.html#returning-a-view-versus-a-copy\n",
      "  filtered_news_df['Sentiment_zero'] = clf.predict(filtered_news_df['Title'])\n"
     ]
    }
   ],
   "source": [
    "# Initialize the ZeroShotOllamaClassifier\n",
    "clf = ZeroShotOllamaClassifier(model='llama3')\n",
    "\n",
    "# Define the candidate labels\n",
    "candidate_labels = ['positive', 'negative', 'neutral']\n",
    "\n",
    "# Fit the classifier (no training data needed for zero-shot)\n",
    "clf.fit(None, candidate_labels)\n",
    "\n",
    "# Predict the sentiment of each news title as a new colum in our DataFrame\n",
    "filtered_news_df['Sentiment_zero'] = clf.predict(filtered_news_df['Title'])"
   ]
  },
  {
   "cell_type": "code",
   "execution_count": 17,
   "metadata": {},
   "outputs": [
    {
     "data": {
      "text/html": [
       "<div>\n",
       "<style scoped>\n",
       "    .dataframe tbody tr th:only-of-type {\n",
       "        vertical-align: middle;\n",
       "    }\n",
       "\n",
       "    .dataframe tbody tr th {\n",
       "        vertical-align: top;\n",
       "    }\n",
       "\n",
       "    .dataframe thead th {\n",
       "        text-align: right;\n",
       "    }\n",
       "</style>\n",
       "<table border=\"1\" class=\"dataframe\">\n",
       "  <thead>\n",
       "    <tr style=\"text-align: right;\">\n",
       "      <th></th>\n",
       "      <th>Title</th>\n",
       "      <th>Sentiment_zero</th>\n",
       "    </tr>\n",
       "  </thead>\n",
       "  <tbody>\n",
       "    <tr>\n",
       "      <th>1</th>\n",
       "      <td>Apple Inc. (AAPL): Among the Best Metaverse Stocks To Buy According to Hedge Funds</td>\n",
       "      <td>positive</td>\n",
       "    </tr>\n",
       "    <tr>\n",
       "      <th>2</th>\n",
       "      <td>Apple, Gen Z on personal finance: Wealth</td>\n",
       "      <td>positive</td>\n",
       "    </tr>\n",
       "    <tr>\n",
       "      <th>3</th>\n",
       "      <td>Apple Removes Russian-Language RFE/RL App Following Pressure from Russian Authorities</td>\n",
       "      <td>negative</td>\n",
       "    </tr>\n",
       "    <tr>\n",
       "      <th>5</th>\n",
       "      <td>Trump Promises Tariffs. Wall Street Is Debating What That Means for Apple.</td>\n",
       "      <td>neutral</td>\n",
       "    </tr>\n",
       "    <tr>\n",
       "      <th>7</th>\n",
       "      <td>Berkshire Hathaway Sells $23B in Apple Shares, Adjusts Portfolio in Q3 2024</td>\n",
       "      <td>neutral</td>\n",
       "    </tr>\n",
       "  </tbody>\n",
       "</table>\n",
       "</div>"
      ],
      "text/plain": [
       "                                                                                   Title  \\\n",
       "1     Apple Inc. (AAPL): Among the Best Metaverse Stocks To Buy According to Hedge Funds   \n",
       "2                                               Apple, Gen Z on personal finance: Wealth   \n",
       "3  Apple Removes Russian-Language RFE/RL App Following Pressure from Russian Authorities   \n",
       "5             Trump Promises Tariffs. Wall Street Is Debating What That Means for Apple.   \n",
       "7            Berkshire Hathaway Sells $23B in Apple Shares, Adjusts Portfolio in Q3 2024   \n",
       "\n",
       "  Sentiment_zero  \n",
       "1       positive  \n",
       "2       positive  \n",
       "3       negative  \n",
       "5        neutral  \n",
       "7        neutral  "
      ]
     },
     "execution_count": 17,
     "metadata": {},
     "output_type": "execute_result"
    }
   ],
   "source": [
    "filtered_news_df[['Title','Sentiment_zero']].head()"
   ]
  },
  {
   "cell_type": "markdown",
   "metadata": {},
   "source": [
    "### Train and Run Few Shot Classifier\n",
    "Start by randomly selecting a few training examples from the original dataset"
   ]
  },
  {
   "cell_type": "code",
   "execution_count": null,
   "metadata": {},
   "outputs": [
    {
     "name": "stderr",
     "output_type": "stream",
     "text": [
      "C:\\Users\\karti\\AppData\\Local\\Temp\\ipykernel_10656\\2926192509.py:3: SettingWithCopyWarning: \n",
      "A value is trying to be set on a copy of a slice from a DataFrame.\n",
      "Try using .loc[row_indexer,col_indexer] = value instead\n",
      "\n",
      "See the caveats in the documentation: https://pandas.pydata.org/pandas-docs/stable/user_guide/indexing.html#returning-a-view-versus-a-copy\n",
      "  filtered_news_df['Few Shot Training Example'] = filtered_news_df.index.isin(few_shot_df.index)\n"
     ]
    },
    {
     "data": {
      "text/plain": [
       "['Jim Cramer on Apple Inc. (AAPL)s Operations in China: China And Trump, They Are Also Like Oil And Water And If You Do Business There, Its Gonna Hurt You Here',\n",
       " 'Apple Removes Russian-Language RFE/RL App Following Pressure from Russian Authorities',\n",
       " 'Is Apple Inc. (AAPL) Best Virtual Reality Stock To Buy Now?',\n",
       " 'Apple to Launch Smart Home Camera in 2026, Expand AirPods Health Features',\n",
       " 'Apple making foray into smart home IP camera market, says analyst Ming-Chi Kuo',\n",
       " 'Apple Stock and These 4 Are Top Picks to Own in 2025',\n",
       " 'Where Will Apple Stock Be in 5 Years?']"
      ]
     },
     "execution_count": 18,
     "metadata": {},
     "output_type": "execute_result"
    }
   ],
   "source": [
    "# Randomly select headlines for few-shot training and add a training indicator\n",
    "few_shot_df = filtered_news_df.sample(n=7, random_state=1)\n",
    "filtered_news_df['Few Shot Training Example'] = filtered_news_df.index.isin(few_shot_df.index)\n",
    "\n",
    "# View training examples\n",
    "list(few_shot_df['Title'])"
   ]
  },
  {
   "cell_type": "code",
   "execution_count": null,
   "metadata": {},
   "outputs": [],
   "source": [
    "# Manually assigned labels corresponding to the selected headlines\n",
    "\n",
    "user_labels = [\n",
    "    'negative',\n",
    "    'negative',\n",
    "    'neutral',\n",
    "    'positive',\n",
    "    'positive',\n",
    "    'positive',\n",
    "    'neutral'\n",
    "]\n",
    "\n",
    "# Add the user-provided labels to the few-shot DataFrame\n",
    "few_shot_df['User_Sentiment'] = user_labels"
   ]
  },
  {
   "cell_type": "markdown",
   "metadata": {},
   "source": [
    "### Initialise and run few shot classifier on the rest of the dataset"
   ]
  },
  {
   "cell_type": "code",
   "execution_count": null,
   "metadata": {},
   "outputs": [],
   "source": [
    "# Initialize the FewShotOllamaClassifier\n",
    "few_shot_clf = FewShotOllamaClassifier(model='llama3')\n",
    "\n",
    "# Fit the classifier with user-provided examples directly from the DataFrame columns\n",
    "few_shot_clf.fit(few_shot_df['Title'], few_shot_df['User_Sentiment'])\n",
    "\n",
    "# Predict the sentiment of all news titles in the filtered DataFrame\n",
    "filtered_news_df['Sentiment_few'] = few_shot_clf.predict(filtered_news_df['Title'])"
   ]
  },
  {
   "cell_type": "code",
   "execution_count": null,
   "metadata": {},
   "outputs": [],
   "source": [
    "few_shots_filtered_news_df = filtered_news_df[['Title','Sentiment_zero','Sentiment_few','Few Shot Training Example']]\n",
    "few_shots_filtered_news_df"
   ]
  }
 ],
 "metadata": {
  "kernelspec": {
   "display_name": "llama_sentiment",
   "language": "python",
   "name": "python3"
  },
  "language_info": {
   "codemirror_mode": {
    "name": "ipython",
    "version": 3
   },
   "file_extension": ".py",
   "mimetype": "text/x-python",
   "name": "python",
   "nbconvert_exporter": "python",
   "pygments_lexer": "ipython3",
   "version": "3.11.9"
  }
 },
 "nbformat": 4,
 "nbformat_minor": 2
}
